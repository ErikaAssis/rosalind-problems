{
 "cells": [
  {
   "cell_type": "markdown",
   "id": "8267eedd-dcb4-4049-ad26-d61ba2babd17",
   "metadata": {},
   "source": [
    "# Transcribing DNA into RNA\n",
    "\n",
    "https://rosalind.info/problems/rna/"
   ]
  },
  {
   "cell_type": "code",
   "execution_count": 3,
   "id": "00f56db8-1321-437c-9f40-2361b3c0f693",
   "metadata": {},
   "outputs": [],
   "source": [
    "def dna_to_rna(dna):\n",
    "    return dna.replace(\"T\", \"U\")"
   ]
  },
  {
   "cell_type": "code",
   "execution_count": 4,
   "id": "e345ae98-b2ae-4fcd-b190-2cd226376197",
   "metadata": {},
   "outputs": [
    {
     "name": "stdout",
     "output_type": "stream",
     "text": [
      "AGCUUAACGGUCUCGCGUACCUCGUCCGUAGUAUAUCCGGACUUAUCAUGCUCCUACAAUAGGGAUGUGCCCUCUCCAGUCGCCCACACCAGGUCAGUUUACAGCCUGGGUUAUAUUUACCCGGUACUAAGUACGUUAGCCAAGCUCGAUGGGUCCCAACGCGUAUAGAGGAGGAGGAGCAACAGGUUUAUGCCCGAAAAACGAUAAGAAGCUUACUUAGUCUUCCUGAUAGGCGCAACUGGAAGACGCGAUAAUAGGGGCUCUCAGCGAUGGCAAUUAAGCGGGUCGCAUCCCGGAGACGCACUUCCUUGACGCGGUCAGGACAACCUAAACCAGACUCACGACGUAUGUUCGACAAUGGACCAAUCUUAAGUACGUGUACGCCUACCGAAAUAUCCCACCCCUCAGCUGCCGGACGCUCAAUCGCUCCCAUAGAAAUUGGUUUGUUUUCUAAGCGGCAGUCCCAAUGAUAUCACGGCUGAAUAGUACACGUACAUGAUCAUACCAACCAGAGUUACUGAACGAGCAUUGAACCCAGUCCUACGAAGCAGGCCGGAGUCGAAAGAAGCCUGAGCUCCCUGAGUAAACGUUUCCCGCCAAAAACUCUCUAAAUCGAAGCAUCGGCAGCCGCUUCUUACUGAAUGACGAGGUGCCCUUGCGCUGACCUAAUCAGGUAGGUACCUGGAAACUUAAAAGGGGUUAUUCAAAACAUUCUUGUCUCGCUCUCGAGAACCGUCUUAGGUGACAGGAAGGUUCCAUCGCAAGAGUCACAUGUCAGGUGAUGAUCACCUCAGUACAAUACCGAUCGCGUUAUUCACUCAUUUGACGGUUCGACUCAUAUUGGAUAACUCCGCCUAGGCCAGAAUAUUUACGGUUAAAUUAACUACAAGUGCUAUGUAAGGGUGUCGUAACGAGU\n",
      "\n"
     ]
    }
   ],
   "source": [
    "with open(\"../data/rosalind_rna.txt\", \"r\") as reader:\n",
    "    dna_string = reader.read()\n",
    "\n",
    "result = dna_to_rna(dna_string)\n",
    "print(result)"
   ]
  }
 ],
 "metadata": {
  "kernelspec": {
   "display_name": "Python 3.10.4 64-bit",
   "language": "python",
   "name": "python3"
  },
  "language_info": {
   "codemirror_mode": {
    "name": "ipython",
    "version": 3
   },
   "file_extension": ".py",
   "mimetype": "text/x-python",
   "name": "python",
   "nbconvert_exporter": "python",
   "pygments_lexer": "ipython3",
   "version": "3.10.4"
  },
  "vscode": {
   "interpreter": {
    "hash": "b36ec4bbe1ae06a405f7e0dc1f23ca80a8e2b8ebc04ad5d5f91b252779fceadb"
   }
  }
 },
 "nbformat": 4,
 "nbformat_minor": 5
}
