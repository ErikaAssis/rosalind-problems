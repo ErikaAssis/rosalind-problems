{
 "cells": [
  {
   "cell_type": "markdown",
   "id": "8b3eac33-254e-424e-a9f3-22b484881d01",
   "metadata": {},
   "source": [
    "# Computing GC Content\n",
    "\n",
    "https://rosalind.info/problems/gc/"
   ]
  },
  {
   "cell_type": "code",
   "execution_count": 1,
   "id": "7f2a8c7d-1a1c-4c66-84be-0fe2f10d9273",
   "metadata": {},
   "outputs": [],
   "source": [
    "def get_fasta_file(string_file):\n",
    "    lst_dna = []\n",
    "    for info in string_file.split(\">\")[1:]:\n",
    "        splited_info = info.split(\"\\n\")\n",
    "        lst_dna.append({\"id\" : splited_info[0], \"dna\" : \"\".join(splited_info[1:]).strip()})\n",
    "    return lst_dna"
   ]
  },
  {
   "cell_type": "code",
   "execution_count": 2,
   "id": "390997af-95a0-4de3-8701-b21fb6118071",
   "metadata": {},
   "outputs": [],
   "source": [
    "def get_highest_gc_content(lst_dna):\n",
    "    for info in lst_dna:\n",
    "        dna = info[\"dna\"]\n",
    "        info[\"gc\"] = ((dna.count(\"G\") + dna.count(\"C\")) / len(dna)) * 100\n",
    "        \n",
    "    highest_gc = sorted(lst_dna, key=lambda d: d[\"gc\"], reverse=True)[0]\n",
    "    return f\"{highest_gc['id']}\\n{highest_gc['gc']}\""
   ]
  },
  {
   "cell_type": "code",
   "execution_count": 3,
   "id": "b2b3e2cb-689e-44f9-8a08-68d837217599",
   "metadata": {},
   "outputs": [
    {
     "name": "stdout",
     "output_type": "stream",
     "text": [
      "Rosalind_3494\n",
      "51.47540983606558\n"
     ]
    }
   ],
   "source": [
    "with open(\"../data/rosalind_gc.txt\", \"r\") as reader:\n",
    "    file = reader.read()\n",
    "    \n",
    "file_content = get_fasta_file(file)\n",
    "result = get_highest_gc_content(file_content)\n",
    "print(result)"
   ]
  },
  {
   "cell_type": "markdown",
   "id": "dc97f975-51bb-44de-98c9-c28a2889422a",
   "metadata": {},
   "source": [
    "## Using biopython"
   ]
  },
  {
   "cell_type": "code",
   "execution_count": 4,
   "id": "30340077-d685-4cb2-8730-baa17625a059",
   "metadata": {},
   "outputs": [],
   "source": [
    "#!pip install biopython"
   ]
  },
  {
   "cell_type": "code",
   "execution_count": 5,
   "id": "1d49db6c-94e2-475f-9ee4-8c078e5c13da",
   "metadata": {},
   "outputs": [],
   "source": [
    "def get_highest_gc_content_2(recs):\n",
    "    seqs = []\n",
    "    for rec in recs:\n",
    "        seq = rec.seq.upper()\n",
    "        gc_value = (((seq.count(\"G\") + seq.count(\"C\")) / len(seq)) * 100)\n",
    "        seqs.append((gc_value, rec.id))\n",
    "\n",
    "    high = max(seqs)\n",
    "    return f\"{high[1]}\\n{high[0]}\""
   ]
  },
  {
   "cell_type": "code",
   "execution_count": 6,
   "id": "a622d516-db7c-4562-b930-8176f1069cdb",
   "metadata": {},
   "outputs": [
    {
     "name": "stdout",
     "output_type": "stream",
     "text": [
      "Rosalind_3494\n",
      "51.47540983606558\n"
     ]
    }
   ],
   "source": [
    "from Bio import SeqIO\n",
    "\n",
    "recs = SeqIO.parse(open(\"../data/rosalind_gc.txt\"), \"fasta\")\n",
    "result =  get_highest_gc_content_2(recs)\n",
    "print(result)"
   ]
  }
 ],
 "metadata": {
  "kernelspec": {
   "display_name": "Python 3.10.4 64-bit",
   "language": "python",
   "name": "python3"
  },
  "language_info": {
   "codemirror_mode": {
    "name": "ipython",
    "version": 3
   },
   "file_extension": ".py",
   "mimetype": "text/x-python",
   "name": "python",
   "nbconvert_exporter": "python",
   "pygments_lexer": "ipython3",
   "version": "3.10.4"
  },
  "vscode": {
   "interpreter": {
    "hash": "b36ec4bbe1ae06a405f7e0dc1f23ca80a8e2b8ebc04ad5d5f91b252779fceadb"
   }
  }
 },
 "nbformat": 4,
 "nbformat_minor": 5
}
