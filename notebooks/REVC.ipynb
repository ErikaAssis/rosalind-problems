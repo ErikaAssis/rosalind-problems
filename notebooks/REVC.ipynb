{
 "cells": [
  {
   "cell_type": "markdown",
   "id": "377353e4-3b2c-48bc-a59e-a2da247f842d",
   "metadata": {},
   "source": [
    "# Complementing a Strand of DNA\n",
    "\n",
    "https://rosalind.info/problems/revc/"
   ]
  },
  {
   "cell_type": "code",
   "execution_count": 1,
   "id": "1ec7011b-3542-44ca-a742-ae474ea0b53a",
   "metadata": {},
   "outputs": [],
   "source": [
    "def reverse(dna):\n",
    "    reverse_dna = dna[::-1]\n",
    "    reverse_map = {\"A\": \"T\", \"T\": \"A\", \"C\": \"G\", \"G\": \"C\"}\n",
    "    return reverse_dna.translate(reverse_dna.maketrans(reverse_map))"
   ]
  },
  {
   "cell_type": "code",
   "execution_count": 2,
   "id": "2eb1a9c8-c56f-4dd9-813a-25512786125f",
   "metadata": {},
   "outputs": [
    {
     "name": "stdout",
     "output_type": "stream",
     "text": [
      "\n",
      "GCCTCTAAATCGTAAACTGATGGGACACATCAAAGAAGTATCTTAGTTATGTACTATCCTCAAAATAGTACTCGCGAATGCTGACTTTCTCTCCTTTATGACGGCGTGAGTCTTACGTGGCACGCCTGGCGGAGCTGGGTAGCCTCCGAGACGTCTCCAGAAGACTTGTTTGTCAAAAGACCTGACGCGGTCTGCTAACACGAATATGGCCGCTTATACCAGTGGGAAATAACGCCCGTTCTAAGGCTGGTTTCCTTAGCTTCAATATTATCGCCAGTAGTGAGCACCTTAACTCAAGCGTCTCCATCAAATTCCCGTGTACCATTCAAAACAAGGACAAATGAACGGAAGGTTTCTGGAACAACAGGTTAGTCGTCTTCGTGGGGAATGTGGGTCGTGGGTGCGGTGCCGAGTACCCGACGAGGTCATACAACTTATGGAACAGAATCCCAGGATTATGGAATTTTGTGAAGTAATCAATTGTCTCTGGTAAATCAGTGGGCAGCTTCGCAACAGCACAAGTCCTGCGACATAGGTACTTCAATCGAGCTCAGAGGATCTTGGAGCGCAGTACATCCCAAGACAGTCCATATATTTGAGTGCGCCGTACTCTCACACCAACAATCCGGGCAATGGATTAGTGAGTCATCAGTGCCTAGAATTTAGGCGCGCGTGCACGGAAGATCAGCTCTAATTGCCACATCTCCCGGCACTATGCCTATATAGCAACCGCATCCATTCTGCTAGGAGTATTACCATCTCTATTAGCTGCCCGGGTTCAATTCCCGGCGTCCTGCACGGCATTGCGGAAGTTCTAAGGGGACTCTGTGGCACCCTTCCTGTATTTCATATAGCTTGGGGAATAGAATCGAACTATGTGTATATAACACCCCTGGGTCACTTATAATGTTGATCCCAC\n"
     ]
    }
   ],
   "source": [
    "with open(\"../data/rosalind_revc.txt\", \"r\") as reader:\n",
    "    dna_string = reader.read()\n",
    "\n",
    "result = reverse(dna_string)\n",
    "print(result)"
   ]
  },
  {
   "cell_type": "markdown",
   "id": "43e19102-47dc-4bed-9c79-ef084011eee2",
   "metadata": {},
   "source": [
    "## Using Bio.Seq"
   ]
  },
  {
   "cell_type": "code",
   "execution_count": 3,
   "id": "36d6eab8-e38e-4820-8dfa-419f35bc1472",
   "metadata": {},
   "outputs": [],
   "source": [
    "#!pip install biopython"
   ]
  },
  {
   "cell_type": "code",
   "execution_count": 4,
   "id": "bc87a9e3-80f3-4f42-8445-9ed0f6df5102",
   "metadata": {},
   "outputs": [],
   "source": [
    "from Bio import Seq"
   ]
  },
  {
   "cell_type": "code",
   "execution_count": 5,
   "id": "f7ebe4ec-bae3-4906-bd5d-b7daf6868e85",
   "metadata": {},
   "outputs": [
    {
     "name": "stdout",
     "output_type": "stream",
     "text": [
      "\n",
      "GCCTCTAAATCGTAAACTGATGGGACACATCAAAGAAGTATCTTAGTTATGTACTATCCTCAAAATAGTACTCGCGAATGCTGACTTTCTCTCCTTTATGACGGCGTGAGTCTTACGTGGCACGCCTGGCGGAGCTGGGTAGCCTCCGAGACGTCTCCAGAAGACTTGTTTGTCAAAAGACCTGACGCGGTCTGCTAACACGAATATGGCCGCTTATACCAGTGGGAAATAACGCCCGTTCTAAGGCTGGTTTCCTTAGCTTCAATATTATCGCCAGTAGTGAGCACCTTAACTCAAGCGTCTCCATCAAATTCCCGTGTACCATTCAAAACAAGGACAAATGAACGGAAGGTTTCTGGAACAACAGGTTAGTCGTCTTCGTGGGGAATGTGGGTCGTGGGTGCGGTGCCGAGTACCCGACGAGGTCATACAACTTATGGAACAGAATCCCAGGATTATGGAATTTTGTGAAGTAATCAATTGTCTCTGGTAAATCAGTGGGCAGCTTCGCAACAGCACAAGTCCTGCGACATAGGTACTTCAATCGAGCTCAGAGGATCTTGGAGCGCAGTACATCCCAAGACAGTCCATATATTTGAGTGCGCCGTACTCTCACACCAACAATCCGGGCAATGGATTAGTGAGTCATCAGTGCCTAGAATTTAGGCGCGCGTGCACGGAAGATCAGCTCTAATTGCCACATCTCCCGGCACTATGCCTATATAGCAACCGCATCCATTCTGCTAGGAGTATTACCATCTCTATTAGCTGCCCGGGTTCAATTCCCGGCGTCCTGCACGGCATTGCGGAAGTTCTAAGGGGACTCTGTGGCACCCTTCCTGTATTTCATATAGCTTGGGGAATAGAATCGAACTATGTGTATATAACACCCCTGGGTCACTTATAATGTTGATCCCAC\n"
     ]
    }
   ],
   "source": [
    "result = Seq.reverse_complement(dna_string)\n",
    "print(result)"
   ]
  }
 ],
 "metadata": {
  "kernelspec": {
   "display_name": "Python 3 (ipykernel)",
   "language": "python",
   "name": "python3"
  },
  "language_info": {
   "codemirror_mode": {
    "name": "ipython",
    "version": 3
   },
   "file_extension": ".py",
   "mimetype": "text/x-python",
   "name": "python",
   "nbconvert_exporter": "python",
   "pygments_lexer": "ipython3",
   "version": "3.10.4"
  },
  "vscode": {
   "interpreter": {
    "hash": "b36ec4bbe1ae06a405f7e0dc1f23ca80a8e2b8ebc04ad5d5f91b252779fceadb"
   }
  }
 },
 "nbformat": 4,
 "nbformat_minor": 5
}
