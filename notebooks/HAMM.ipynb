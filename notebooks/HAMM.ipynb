{
 "cells": [
  {
   "cell_type": "markdown",
   "id": "356bb4ae-aa6a-4363-a7f9-bf381d3db23d",
   "metadata": {},
   "source": [
    "# Counting Point Mutations\n",
    "\n",
    "https://rosalind.info/problems/hamm/"
   ]
  },
  {
   "cell_type": "code",
   "execution_count": 1,
   "id": "33a91f15-56da-4cba-b0c7-6d120ddeb09c",
   "metadata": {},
   "outputs": [],
   "source": [
    "def hamming_distance(s, t):\n",
    "    count = 0\n",
    "    for i in range(0, len(s)):\n",
    "        if s[i] != t[i]:\n",
    "            count += 1\n",
    "    return count"
   ]
  },
  {
   "cell_type": "code",
   "execution_count": 2,
   "id": "43105e53-71d4-43f0-9b81-d072a4e1ae38",
   "metadata": {},
   "outputs": [
    {
     "name": "stdout",
     "output_type": "stream",
     "text": [
      "489\n"
     ]
    }
   ],
   "source": [
    "with open(\"../data/rosalind_hamm.txt\", \"r\") as reader:\n",
    "    file = reader.read()\n",
    "    \n",
    "file_splited = file.split('\\n')\n",
    "dna_01 = file_splited[0]\n",
    "dna_02 = file_splited[1]\n",
    "\n",
    "result = hamming_distance(dna_01, dna_02)\n",
    "print(result)"
   ]
  }
 ],
 "metadata": {
  "kernelspec": {
   "display_name": "Python 3 (ipykernel)",
   "language": "python",
   "name": "python3"
  },
  "language_info": {
   "codemirror_mode": {
    "name": "ipython",
    "version": 3
   },
   "file_extension": ".py",
   "mimetype": "text/x-python",
   "name": "python",
   "nbconvert_exporter": "python",
   "pygments_lexer": "ipython3",
   "version": "3.10.4"
  }
 },
 "nbformat": 4,
 "nbformat_minor": 5
}
