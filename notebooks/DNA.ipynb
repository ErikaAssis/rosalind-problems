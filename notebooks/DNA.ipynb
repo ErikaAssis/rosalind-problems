{
 "cells": [
  {
   "cell_type": "markdown",
   "id": "ce91071d-ceb3-4a57-8215-789295b2f549",
   "metadata": {
    "tags": []
   },
   "source": [
    "# Counting DNA Nucleotides\n",
    "\n",
    "\n",
    "https://rosalind.info/problems/dna/"
   ]
  },
  {
   "cell_type": "code",
   "execution_count": 1,
   "id": "f3ec025b-5107-461a-8341-2c87f421c546",
   "metadata": {},
   "outputs": [],
   "source": [
    "from collections import Counter"
   ]
  },
  {
   "cell_type": "code",
   "execution_count": 2,
   "id": "993e050e-3ebc-4394-8a26-41c2989c2703",
   "metadata": {},
   "outputs": [],
   "source": [
    "def count_simbols(dna):\n",
    "  simbols = dict(Counter(list(dna)))\n",
    "  return f\"{simbols.get('A')} {simbols.get('C')} {simbols.get('G')} {simbols.get('T')}\""
   ]
  },
  {
   "cell_type": "code",
   "execution_count": 3,
   "id": "ddc567c0-9b0f-4ba4-85db-a964be92e038",
   "metadata": {},
   "outputs": [
    {
     "name": "stdout",
     "output_type": "stream",
     "text": [
      "232 230 258 246\n"
     ]
    }
   ],
   "source": [
    "dna_string = \"\"\"AGATCACCCGAGTTTTTCTGTTGTGAAAGTCGTGAAATCTCCTGTGATTTGTCAAAGTGTCGAGGCCTATAAACTGATCCGGCTCAGTAAAGATGGAGCCTAGACTGGAGAGGAACGCTAGATACGAGGCCCGCTATTCCAGACAGGTTCAGGCGCGTCACATTTCCCCGTTTTTGAGGGACGTTGGGGATCACTCGTTCAGGCCAATCCCAGGGGCCGCCGGTTGGAGTATCTAGCCCCTAGATTCGCAAGTGCAGAGACCGTGCTTCGATCTGTTGTGATTCCGGTATGCTTGAAGAAGTTGGGGCCGGCCCGCCGTCTAAGATATCTACATCATCAGAACTCCGTTTTTTATGGCACTCATGCTGACGGGCTAGTTCGACGGCGAGCTACAACTCTAAGCCAGGTTATCACACTTTTCGAACTCAGAAATTTTGATGGACGTCATGATGCACATAATACCTGGAGGTCCTGCAAGTGTATCGCTTGCAATAGCTGAGTGAACCGCGGCATGAGATATAAGGGATTAAAAGGACGCGGACGTAACGAAGTCTTCGGCGAACGCCTGGCGGTGTATGGGATCTAAGCGGGCATCACCGAAGTACTGGGCTTGTCGCCCTTTTTTCAGGATTAGACCGTGAAGGCTCTAAAACCTGTCTTCGTAGGTCTACAGTCTCCGCGGGGAGCTTTAATTACGACCTAGGTGCGACTGAACCCCCAGCTAGCGATGCACTCGATACAGGGCAGGCCTTCGTTGTTACGCGTACATGGGTCGCCGCTTAAATTTAGGCTTGACAAGAATGAAGCCGATTCGCGTGAGGTCCGGAGAATCACGTTGTAAGTTCTCAGCTAGGCGCAGTGCGTCGCCATGGCCTAACACTATCTCAGGTATTGAGAATTACTAAGCAGGATCTGTGCTAACTACCTTGATTAATATAGGACGACTGCTACCCATTATTTCACCAT\n",
    "\"\"\"\n",
    "result = count_simbols(dna_string)\n",
    "print(result)"
   ]
  }
 ],
 "metadata": {
  "kernelspec": {
   "display_name": "Python 3.10.4 64-bit",
   "language": "python",
   "name": "python3"
  },
  "language_info": {
   "codemirror_mode": {
    "name": "ipython",
    "version": 3
   },
   "file_extension": ".py",
   "mimetype": "text/x-python",
   "name": "python",
   "nbconvert_exporter": "python",
   "pygments_lexer": "ipython3",
   "version": "3.10.4"
  },
  "vscode": {
   "interpreter": {
    "hash": "b36ec4bbe1ae06a405f7e0dc1f23ca80a8e2b8ebc04ad5d5f91b252779fceadb"
   }
  }
 },
 "nbformat": 4,
 "nbformat_minor": 5
}
