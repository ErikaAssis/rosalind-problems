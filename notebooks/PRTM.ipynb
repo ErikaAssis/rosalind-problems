{
 "cells": [
  {
   "cell_type": "markdown",
   "id": "8cc139b7-1f12-474c-b900-48a3ce637fd1",
   "metadata": {},
   "source": [
    "## Calculating Protein Mass\n",
    "\n",
    "https://rosalind.info/problems/prtm/"
   ]
  },
  {
   "cell_type": "code",
   "execution_count": 1,
   "id": "e937995d-50a3-4b20-9636-fc2094fbeecb",
   "metadata": {},
   "outputs": [],
   "source": [
    "MASS_TABLE = {\"A\" : 71.03711, \"C\" : 103.00919, \"D\" : 115.02694, \"E\" : 129.04259,\n",
    "              \"F\" : 147.06841, \"G\" : 57.02146, \"H\" : 137.05891, \"I\" : 113.08406,\n",
    "              \"K\" : 128.09496, \"L\" : 113.08406, \"M\" : 131.04049, \"N\" : 114.04293,\n",
    "              \"P\" : 97.05276, \"Q\" : 128.05858, \"R\" : 156.10111, \"S\" : 87.03203,\n",
    "              \"T\" : 101.04768, \"V\" : 99.06841, \"W\" : 186.07931, \"Y\" : 163.06333}"
   ]
  },
  {
   "cell_type": "code",
   "execution_count": 8,
   "id": "0c01f418-1986-488b-b816-75d04b69c34b",
   "metadata": {},
   "outputs": [],
   "source": [
    "def protein_mass(protein):\n",
    "    protein_mass = 0\n",
    "    try:\n",
    "        for i in protein:\n",
    "            protein_mass += MASS_TABLE.get(i)\n",
    "    except:\n",
    "        protein_mass += 0\n",
    "        \n",
    "    return protein_mass"
   ]
  },
  {
   "cell_type": "code",
   "execution_count": 10,
   "id": "eda210f1-a29d-4c3d-8e0b-b0ff63a7600e",
   "metadata": {},
   "outputs": [
    {
     "name": "stdout",
     "output_type": "stream",
     "text": [
      "98981.81797000045\n"
     ]
    }
   ],
   "source": [
    "with open(\"../data/rosalind_prtm.txt\", \"r\") as reader:\n",
    "    protein = reader.read()\n",
    "\n",
    "result = protein_mass(protein)\n",
    "print(result)"
   ]
  }
 ],
 "metadata": {
  "kernelspec": {
   "display_name": "Python 3 (ipykernel)",
   "language": "python",
   "name": "python3"
  },
  "language_info": {
   "codemirror_mode": {
    "name": "ipython",
    "version": 3
   },
   "file_extension": ".py",
   "mimetype": "text/x-python",
   "name": "python",
   "nbconvert_exporter": "python",
   "pygments_lexer": "ipython3",
   "version": "3.10.4"
  }
 },
 "nbformat": 4,
 "nbformat_minor": 5
}
